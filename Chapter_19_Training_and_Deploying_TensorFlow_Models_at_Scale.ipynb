{
  "cells": [
    {
      "cell_type": "markdown",
      "metadata": {
        "id": "view-in-github",
        "colab_type": "text"
      },
      "source": [
        "<a href=\"https://colab.research.google.com/github/fadhilahmad11/Hands-on-Machine-Learning-with-Scikit-Learn-TensorFlow-Tugas-Machine-LearningW8-W16/blob/main/Chapter_19_Training_and_Deploying_TensorFlow_Models_at_Scale.ipynb\" target=\"_parent\"><img src=\"https://colab.research.google.com/assets/colab-badge.svg\" alt=\"Open In Colab\"/></a>"
      ]
    },
    {
      "cell_type": "markdown",
      "source": [
        "# Chapter 19: Training and Deploying TensorFlow Models at Scale  \n",
        "\n",
        "## 1. Pendahuluan  \n",
        "\n",
        "Bab ini membahas teknik untuk:\n",
        "- Melatih model TensorFlow dalam skala besar (multi-GPU, multi-node).\n",
        "- Menyimpan, mengoptimasi, dan mendistribusikan model untuk produksi.\n",
        "\n",
        "## 2. Distributed Training  \n",
        "\n",
        "TensorFlow mendukung distribusi training:\n",
        "- **MirroredStrategy**: sinkronisasi antar GPU dalam satu mesin.\n",
        "- **MultiWorkerMirroredStrategy**: distribusi di beberapa mesin.\n",
        "\n",
        "Contoh:\n",
        "```python\n",
        "strategy = tf.distribute.MirroredStrategy()\n",
        "with strategy.scope():\n",
        "    model = create_model()\n",
        "```\n",
        "\n",
        "## 3. SavedModel Format  \n",
        "\n",
        "Format standar untuk menyimpan model TensorFlow:\n",
        "- Menyimpan arsitektur, bobot, optimizer state.\n",
        "- Kompatibel dengan serving (TF Serving, TFLite, TensorFlow.js).\n",
        "\n",
        "```python\n",
        "model.save(\"my_model\")\n",
        "restored_model = tf.keras.models.load_model(\"my_model\")\n",
        "```\n",
        "\n",
        "## 4. TensorFlow Serving  \n",
        "\n",
        "TensorFlow Serving memungkinkan:\n",
        "- Deployment model ke produksi.\n",
        "- Serving REST API untuk inferensi.\n",
        "\n",
        "Biasanya model disimpan sebagai SavedModel lalu dipanggil melalui API.\n",
        "\n",
        "## 5. Model Optimization  \n",
        "\n",
        "Optimasi model untuk deployment:\n",
        "- **Quantization**: konversi bobot ke tipe lebih kecil (contoh int8).\n",
        "- **Pruning**: hapus bobot kecil yang tidak penting.\n",
        "- **TFLite Converter**: konversi model untuk mobile/embedded.\n",
        "\n",
        "```python\n",
        "converter = tf.lite.TFLiteConverter.from_saved_model(\"my_model\")\n",
        "tflite_model = converter.convert()\n",
        "```"
      ],
      "metadata": {
        "id": "B4a-LuffQa-P"
      },
      "id": "B4a-LuffQa-P"
    }
  ],
  "metadata": {
    "colab": {
      "provenance": [],
      "include_colab_link": true
    }
  },
  "nbformat": 4,
  "nbformat_minor": 5
}