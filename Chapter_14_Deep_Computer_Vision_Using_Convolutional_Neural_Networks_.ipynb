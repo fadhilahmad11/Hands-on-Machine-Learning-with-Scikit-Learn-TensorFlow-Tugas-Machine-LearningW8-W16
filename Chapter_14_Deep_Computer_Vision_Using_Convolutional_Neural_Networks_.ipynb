{
  "cells": [
    {
      "cell_type": "markdown",
      "metadata": {
        "id": "view-in-github",
        "colab_type": "text"
      },
      "source": [
        "<a href=\"https://colab.research.google.com/github/fadhilahmad11/Hands-on-Machine-Learning-with-Scikit-Learn-TensorFlow-Tugas-Machine-LearningW8-W16/blob/main/Chapter_14_Deep_Computer_Vision_Using_Convolutional_Neural_Networks_.ipynb\" target=\"_parent\"><img src=\"https://colab.research.google.com/assets/colab-badge.svg\" alt=\"Open In Colab\"/></a>"
      ]
    },
    {
      "cell_type": "markdown",
      "source": [
        "# Chapter 14: Deep Computer Vision Using Convolutional Neural Networks  \n",
        "\n",
        "---\n",
        "\n",
        "## 1. Pendahuluan  \n",
        "\n",
        "Chapter ini membahas Convolutional Neural Networks (CNN), arsitektur deep learning khusus untuk memproses data grid-like (misalnya gambar).  \n",
        "CNN efektif mendeteksi pola spasial dan hierarki fitur dalam gambar.\n",
        "\n",
        "---\n",
        "\n",
        "## 2. Layer Utama CNN  \n",
        "\n",
        "### a. Convolutional Layer  \n",
        "Melakukan operasi convolution antara input dan filter untuk menghasilkan feature map.  \n",
        "\n",
        "$\n",
        "s(t) = (x * w)(t) = \\sum x(a) w(t - a)\n",
        "$\n",
        "\n",
        "- $( x $): input\n",
        "- $( w $): filter/kernel\n",
        "\n",
        "\n",
        "### b. Pooling Layer  \n",
        "\n",
        "Mengurangi dimensi feature map sambil mempertahankan informasi penting.  \n",
        "Contoh: max pooling mengambil nilai maksimum dari setiap patch.\n",
        "\n",
        "\n",
        "### c. Fully Connected Layer  \n",
        "\n",
        "Setelah convolution dan pooling, output diratakan (flatten) dan diproses seperti MLP.\n",
        "\n",
        "---\n",
        "\n",
        "## 3. Arsitektur CNN di Keras  \n",
        "\n",
        "```python\n",
        "from tensorflow import keras\n",
        "\n",
        "model = keras.models.Sequential([\n",
        "    keras.layers.Conv2D(32, 3, activation=\"relu\", padding=\"same\", input_shape=[28, 28, 1]),\n",
        "    keras.layers.MaxPooling2D(2),\n",
        "    keras.layers.Conv2D(64, 3, activation=\"relu\", padding=\"same\"),\n",
        "    keras.layers.MaxPooling2D(2),\n",
        "    keras.layers.Flatten(),\n",
        "    keras.layers.Dense(64, activation=\"relu\"),\n",
        "    keras.layers.Dense(10, activation=\"softmax\")\n",
        "])\n"
      ],
      "metadata": {
        "id": "B4a-LuffQa-P"
      },
      "id": "B4a-LuffQa-P"
    },
    {
      "cell_type": "markdown",
      "source": [
        "## 4. Padding dan Stride\n",
        "- Padding=\"same\": output size tetap sama dengan input.\n",
        "- Stride > 1: filter melangkah lebih dari 1 pixel, membuat output lebih kecil.\n",
        "\n",
        "---\n",
        "\n",
        "## 5. Regularisasi CNN\n",
        "- Dropout\n",
        "- Data Augmentation: rotasi, flipping, zoom, dst.\n",
        "\n",
        "---\n",
        "\n",
        "## 6. Transfer Learning\n",
        "Menggunakan pretrained model (misal VGG, ResNet), fine-tune pada dataset baru.\n",
        "\n",
        "```python\n",
        "conv_base = keras.applications.VGG16(weights=\"imagenet\", include_top=False, input_shape=[150, 150, 3])\n",
        "\n",
        "```\n",
        "\n"
      ],
      "metadata": {
        "id": "8hNgGvXiQ4_P"
      },
      "id": "8hNgGvXiQ4_P"
    }
  ],
  "metadata": {
    "colab": {
      "provenance": [],
      "include_colab_link": true
    }
  },
  "nbformat": 4,
  "nbformat_minor": 5
}