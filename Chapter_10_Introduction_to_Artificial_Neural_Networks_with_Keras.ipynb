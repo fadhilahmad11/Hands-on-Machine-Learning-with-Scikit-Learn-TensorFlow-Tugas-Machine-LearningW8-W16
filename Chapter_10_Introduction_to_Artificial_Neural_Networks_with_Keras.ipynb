{
  "cells": [
    {
      "cell_type": "markdown",
      "metadata": {
        "id": "view-in-github",
        "colab_type": "text"
      },
      "source": [
        "<a href=\"https://colab.research.google.com/github/fadhilahmad11/Hands-on-Machine-Learning-with-Scikit-Learn-TensorFlow-Tugas-Machine-LearningW8-W16/blob/main/Chapter_10_Introduction_to_Artificial_Neural_Networks_with_Keras.ipynb\" target=\"_parent\"><img src=\"https://colab.research.google.com/assets/colab-badge.svg\" alt=\"Open In Colab\"/></a>"
      ]
    },
    {
      "cell_type": "markdown",
      "id": "0177fcdf",
      "metadata": {
        "id": "0177fcdf"
      },
      "source": [
        "\n",
        "# Chapter 10: Introduction to Artificial Neural Networks with Keras  \n",
        "\n",
        "---\n",
        "\n",
        "## 1. Pendahuluan  \n",
        "\n",
        "Chapter ini memperkenalkan dasar Artificial Neural Networks (ANN) dan implementasinya menggunakan Keras.  \n",
        "ANN terinspirasi dari jaringan saraf biologis, dibangun dari layer neuron (perceptron) yang saling terhubung.\n"
      ]
    },
    {
      "cell_type": "markdown",
      "id": "dff42080",
      "metadata": {
        "id": "dff42080"
      },
      "source": [
        "\n",
        "## 2. Struktur ANN  \n",
        "\n",
        "ANN terdiri dari:\n",
        "- **Input layer**: menerima data fitur.\n",
        "- **Hidden layer**: memproses input menggunakan fungsi aktivasi.\n",
        "- **Output layer**: menghasilkan prediksi.\n"
      ]
    },
    {
      "cell_type": "markdown",
      "id": "57077a86",
      "metadata": {
        "id": "57077a86"
      },
      "source": [
        "\n",
        "## 3. Persamaan Dasar Neuron  \n",
        "\n",
        "Output neuron:\n",
        "$\n",
        "z = w^T x + b\n",
        "$\n",
        "$\n",
        "\\hat{y} = \\phi(z)\n",
        "$\n",
        "\n",
        "di mana:\n",
        "- $( w $): bobot\n",
        "- $( x $): input\n",
        "- $( b $): bias\n",
        "- $( \\phi $): fungsi aktivasi (misal ReLU, sigmoid)\n"
      ]
    },
    {
      "cell_type": "markdown",
      "id": "6764cfc3",
      "metadata": {
        "id": "6764cfc3"
      },
      "source": [
        "\n",
        "## 4. Fungsi Aktivasi  \n",
        "\n",
        "- **ReLU:**\n",
        "$\n",
        "\\phi(z) = \\max(0, z)\n",
        "$\n",
        "\n",
        "- **Sigmoid:**\n",
        "$\n",
        "\\phi(z) = \\frac{1}{1 + e^{-z}}\n",
        "$\n",
        "\n",
        "- **Softmax:** untuk multiclass classification:\n",
        "$\n",
        "\\phi(z_j) = \\frac{e^{z_j}}{\\sum_k e^{z_k}}\n",
        "$\n"
      ]
    },
    {
      "cell_type": "markdown",
      "id": "b3ee6d30",
      "metadata": {
        "id": "b3ee6d30"
      },
      "source": [
        "\n",
        "## 5. Keras Sequential API  \n",
        "\n",
        "Contoh MLP untuk klasifikasi:\n",
        "\n",
        "```python\n",
        "from tensorflow import keras\n",
        "\n",
        "model = keras.models.Sequential([\n",
        "    keras.layers.Dense(30, activation=\"relu\", input_shape=X_train.shape[1:]),\n",
        "    keras.layers.Dense(1, activation=\"sigmoid\")\n",
        "])\n",
        "\n",
        "model.compile(loss=\"binary_crossentropy\", optimizer=\"sgd\", metrics=[\"accuracy\"])\n",
        "model.fit(X_train, y_train, epochs=20, validation_data=(X_valid, y_valid))\n",
        "```\n"
      ]
    },
    {
      "cell_type": "markdown",
      "id": "e5edf51f",
      "metadata": {
        "id": "e5edf51f"
      },
      "source": [
        "\n",
        "## 6. Loss Function  \n",
        "\n",
        "Untuk binary classification:\n",
        "$\n",
        "\\mathcal{L} = - \\frac{1}{m} \\sum \\left[ y \\log(\\hat{y}) + (1 - y) \\log(1 - \\hat{y}) \\right]\n",
        "$\n",
        "\n",
        "**Makna:**  \n",
        "Cross-entropy loss mengukur seberapa baik probabilitas prediksi mendekati label sebenarnya.\n"
      ]
    },
    {
      "cell_type": "markdown",
      "id": "102f4320",
      "metadata": {
        "id": "102f4320"
      },
      "source": [
        "\n",
        "## 7. Optimizers  \n",
        "\n",
        "- **SGD:** sederhana, butuh learning rate tuning.\n",
        "- **Adam:** adaptif learning rate, lebih stabil.\n"
      ]
    },
    {
      "cell_type": "markdown",
      "id": "813acea1",
      "metadata": {
        "id": "813acea1"
      },
      "source": [
        "\n",
        "## 8. Tips ANN  \n",
        "\n",
        "- Scale input data (standardisasi) agar training lebih stabil.\n",
        "- Gunakan callback (misalnya early stopping) untuk menghindari overfitting.\n",
        "- Tune jumlah neuron dan layer sesuai kompleksitas masalah.\n"
      ]
    }
  ],
  "metadata": {
    "colab": {
      "provenance": [],
      "include_colab_link": true
    }
  },
  "nbformat": 4,
  "nbformat_minor": 5
}