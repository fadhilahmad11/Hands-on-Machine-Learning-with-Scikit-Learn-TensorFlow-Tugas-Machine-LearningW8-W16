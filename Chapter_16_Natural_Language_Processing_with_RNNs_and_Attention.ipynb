{
  "cells": [
    {
      "cell_type": "markdown",
      "metadata": {
        "id": "view-in-github",
        "colab_type": "text"
      },
      "source": [
        "<a href=\"https://colab.research.google.com/github/fadhilahmad11/Hands-on-Machine-Learning-with-Scikit-Learn-TensorFlow-Tugas-Machine-LearningW8-W16/blob/main/Chapter_16_Natural_Language_Processing_with_RNNs_and_Attention.ipynb\" target=\"_parent\"><img src=\"https://colab.research.google.com/assets/colab-badge.svg\" alt=\"Open In Colab\"/></a>"
      ]
    },
    {
      "cell_type": "markdown",
      "source": [
        "# Chapter 16: Natural Language Processing with RNNs and Attention  \n",
        "\n",
        "---\n",
        "\n",
        "## 1. Pendahuluan  \n",
        "\n",
        "Bab ini membahas penerapan deep learning pada **Natural Language Processing (NLP)**, khususnya:\n",
        "- Representasi kata\n",
        "- Sequence-to-sequence models\n",
        "- Attention mechanism\n",
        "\n",
        "---\n",
        "\n",
        "## 2. Representasi Kata  \n",
        "\n",
        "### One-hot encoding  \n",
        "Representasi kata sebagai vektor biner, hanya satu elemen = 1.  \n",
        "Kekurangan: sangat sparse, tidak mengandung informasi relasi kata.\n",
        "\n",
        "### Word embeddings  \n",
        "Mapping kata ke dense vector:\n",
        "- Captures semantic meaning\n",
        "- Contoh: Word2Vec, GloVe\n",
        "\n",
        "```python\n",
        "embedding_layer = keras.layers.Embedding(input_dim=vocab_size, output_dim=embedding_dim)\n",
        "```\n",
        "## 3. Sequence-to-Sequence (Seq2Seq)  \n",
        "\n",
        "Digunakan untuk translasi, summarization:\n",
        "- **Encoder**: membaca input sequence\n",
        "- **Decoder**: menghasilkan output sequence\n",
        "\n",
        "## 4. Attention Mechanism  \n",
        "\n",
        "Attention memungkinkan decoder fokus ke bagian relevan input sequence saat menghasilkan tiap output.\n",
        "\n",
        "Skema sederhana:\n",
        "$\n",
        "\\alpha_t = \\text{softmax}(score(h_t, \\bar{h}_s))\n",
        "$\n",
        "\n",
        "- $( h_t $): decoder state\n",
        "- $( \\bar{h}_s $): encoder output\n",
        "- $( \\alpha_t $): attention weight\n",
        "\n",
        "Output decoder:\n",
        "$\n",
        "\\tilde{h}_t = \\sum \\alpha_t \\bar{h}_s\n",
        "$\n",
        "\n",
        "## 5. Implementasi di Keras  \n",
        "\n",
        "```python\n",
        "encoder_inputs = keras.Input(shape=(None,))\n",
        "x = keras.layers.Embedding(input_dim=vocab_size, output_dim=embedding_dim)(encoder_inputs)\n",
        "encoder_outputs, state_h, state_c = keras.layers.LSTM(128, return_state=True)(x)\n",
        "\n",
        "decoder_inputs = keras.Input(shape=(None,))\n",
        "x = keras.layers.Embedding(input_dim=vocab_size, output_dim=embedding_dim)(decoder_inputs)\n",
        "decoder_lstm = keras.layers.LSTM(128, return_sequences=True, return_state=True)\n",
        "decoder_outputs, _, _ = decoder_lstm(x, initial_state=[state_h, state_c])\n",
        "```\n",
        "\n",
        "## 6. Positional Encoding (Transformer)  \n",
        "\n",
        "Transformers (tidak pakai RNN) butuh positional encoding agar tahu urutan kata.\n",
        "\n",
        "## 7. Kesimpulan  \n",
        "\n",
        "Bab ini membahas:\n",
        "- Representasi kata: one-hot, embeddings\n",
        "- Seq2Seq arsitektur untuk NLP\n",
        "- Attention mechanism untuk fokus pada input relevan\n",
        "- Awal konsep menuju Transformer\n"
      ],
      "metadata": {
        "id": "B4a-LuffQa-P"
      },
      "id": "B4a-LuffQa-P"
    }
  ],
  "metadata": {
    "colab": {
      "provenance": [],
      "include_colab_link": true
    }
  },
  "nbformat": 4,
  "nbformat_minor": 5
}