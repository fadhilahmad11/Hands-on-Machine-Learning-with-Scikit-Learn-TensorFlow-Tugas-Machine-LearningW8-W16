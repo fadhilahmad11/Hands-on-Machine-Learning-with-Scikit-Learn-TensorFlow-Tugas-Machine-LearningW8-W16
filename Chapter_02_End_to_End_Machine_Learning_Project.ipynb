{
  "nbformat": 4,
  "nbformat_minor": 0,
  "metadata": {
    "colab": {
      "provenance": [],
      "authorship_tag": "ABX9TyN7pnnTVqD5EdX1fmQfotY4",
      "include_colab_link": true
    },
    "kernelspec": {
      "name": "python3",
      "display_name": "Python 3"
    },
    "language_info": {
      "name": "python"
    }
  },
  "cells": [
    {
      "cell_type": "markdown",
      "metadata": {
        "id": "view-in-github",
        "colab_type": "text"
      },
      "source": [
        "<a href=\"https://colab.research.google.com/github/fadhilahmad11/Hands-on-Machine-Learning-with-Scikit-Learn-TensorFlow-Tugas-Machine-LearningW8-W16/blob/main/Chapter_02_End_to_End_Machine_Learning_Project.ipynb\" target=\"_parent\"><img src=\"https://colab.research.google.com/assets/colab-badge.svg\" alt=\"Open In Colab\"/></a>"
      ]
    },
    {
      "cell_type": "markdown",
      "source": [
        "# Chapter 2: End-to-End Machine Learning Project  \n",
        "\n",
        "---\n",
        "\n",
        "## 1. Pendahuluan  \n",
        "\n",
        "Chapter ini membahas langkah-langkah membangun proyek Machine Learning dari awal hingga akhir menggunakan dataset harga rumah di California. Tujuan proyek adalah membangun model yang mampu memprediksi median harga rumah berdasarkan data sensus distrik.  \n",
        "\n",
        "---\n",
        "\n",
        "## 2. Langkah-Langkah Utama  \n",
        "\n",
        "1. **Look at the Big Picture**  \n",
        "   Memahami konteks dan tujuan bisnis, yaitu membantu sistem investasi properti dengan prediksi harga rumah.  \n",
        "\n",
        "2. **Frame the Problem**  \n",
        "   - Supervised learning  \n",
        "   - Regression (karena memprediksi nilai)  \n",
        "   - Batch learning (data cukup kecil untuk muat di memori)  \n",
        "\n",
        "3. **Select a Performance Measure**  \n",
        "   Digunakan **Root Mean Square Error (RMSE)**:  \n",
        "   $$\n",
        "   \\text{RMSE}(X, h) = \\sqrt{ \\frac{1}{m} \\sum_{i=1}^{m} (h(x^{(i)}) - y^{(i)})^2 }\n",
        "   $$\n",
        "\n",
        "   dan alternatifnya **Mean Absolute Error (MAE)**:  \n",
        "   $$\n",
        "   \\text{MAE}(X, h) = \\frac{1}{m} \\sum_{i=1}^{m} | h(x^{(i)}) - y^{(i)} |\n",
        "   $$\n",
        "\n",
        "4. **Get the Data**  \n",
        "   - Data didownload dari StatLib repository  \n",
        "   - Data terdiri dari 20.640 baris dengan atribut seperti: `longitude`, `latitude`, `housing_median_age`, `total_rooms`, `population`, `median_income`, `median_house_value`, `ocean_proximity`  \n",
        "\n",
        "5. **Discover and Visualize the Data to Gain Insights**  \n",
        "   - Visualisasi distribusi geografis harga rumah  \n",
        "   - Analisis korelasi (contohnya korelasi `median_income` dengan harga rumah)  \n",
        "\n",
        "6. **Prepare the Data for Machine Learning Algorithms**  \n",
        "   - Data cleaning (misalnya, imputasi nilai kosong)  \n",
        "   - Feature scaling: standardisasi dan normalisasi  \n",
        "   - Pipeline untuk mengotomasi transformasi  \n",
        "\n",
        "7. **Select and Train a Model**  \n",
        "   - Coba model Linear Regression  \n",
        "   - Coba Decision Tree, Random Forest  \n",
        "\n",
        "8. **Fine-Tune Your Model**  \n",
        "   - Grid Search dan Randomized Search untuk hyperparameter  \n",
        "   - Ensemble methods  \n",
        "\n",
        "9. **Present and Launch Your Solution**  \n",
        "   - Evaluasi pada test set  \n",
        "   - Dokumentasi, monitoring, dan maintenance  \n",
        "\n",
        "---\n",
        "\n",
        "## 3. Contoh Kode untuk Mendownload dan Memuat Data  \n",
        "\n",
        "```python\n",
        "import os\n",
        "import tarfile\n",
        "import urllib.request\n",
        "import pandas as pd\n",
        "\n",
        "DOWNLOAD_ROOT = \"https://raw.githubusercontent.com/ageron/handson-ml2/master/\"\n",
        "HOUSING_PATH = os.path.join(\"datasets\", \"housing\")\n",
        "HOUSING_URL = DOWNLOAD_ROOT + \"datasets/housing/housing.tgz\"\n",
        "\n",
        "def fetch_housing_data(housing_url=HOUSING_URL, housing_path=HOUSING_PATH):\n",
        "    os.makedirs(housing_path, exist_ok=True)\n",
        "    tgz_path = os.path.join(housing_path, \"housing.tgz\")\n",
        "    urllib.request.urlretrieve(housing_url, tgz_path)\n",
        "    housing_tgz = tarfile.open(tgz_path)\n",
        "    housing_tgz.extractall(path=housing_path)\n",
        "    housing_tgz.close()\n",
        "\n",
        "def load_housing_data(housing_path=HOUSING_PATH):\n",
        "    csv_path = os.path.join(housing_path, \"housing.csv\")\n",
        "    return pd.read_csv(csv_path)\n",
        "\n",
        "fetch_housing_data()\n",
        "housing = load_housing_data()\n",
        "housing.head()\n"
      ],
      "metadata": {
        "id": "_n2ci-nfC5oP"
      }
    }
  ]
}
