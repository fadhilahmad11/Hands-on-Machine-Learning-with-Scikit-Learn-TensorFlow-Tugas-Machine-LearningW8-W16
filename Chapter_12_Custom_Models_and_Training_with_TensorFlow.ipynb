{
  "cells": [
    {
      "cell_type": "markdown",
      "metadata": {
        "id": "view-in-github",
        "colab_type": "text"
      },
      "source": [
        "<a href=\"https://colab.research.google.com/github/fadhilahmad11/Hands-on-Machine-Learning-with-Scikit-Learn-TensorFlow-Tugas-Machine-LearningW8-W16/blob/main/Chapter_12_Custom_Models_and_Training_with_TensorFlow.ipynb\" target=\"_parent\"><img src=\"https://colab.research.google.com/assets/colab-badge.svg\" alt=\"Open In Colab\"/></a>"
      ]
    },
    {
      "cell_type": "markdown",
      "id": "31b58b3d",
      "metadata": {
        "id": "31b58b3d"
      },
      "source": [
        "\n",
        "# Chapter 12: Custom Models and Training with TensorFlow  \n",
        "\n",
        "---\n",
        "\n",
        "## 1. Pendahuluan  \n",
        "\n",
        "Chapter ini membahas bagaimana kita dapat membangun model, loss function, dan training loop secara manual menggunakan TensorFlow, agar punya kontrol penuh terhadap proses training.\n"
      ]
    },
    {
      "cell_type": "markdown",
      "id": "86b268f4",
      "metadata": {
        "id": "86b268f4"
      },
      "source": [
        "\n",
        "## 2. Custom Model dengan Subclassing  \n",
        "\n",
        "Dengan subclassing `tf.keras.Model`, kita dapat mendefinisikan arsitektur model dengan cara paling fleksibel.\n",
        "\n",
        "```python\n",
        "import tensorflow as tf\n",
        "\n",
        "class MyModel(tf.keras.Model):\n",
        "    def __init__(self, units=10):\n",
        "        super().__init__()\n",
        "        self.dense1 = tf.keras.layers.Dense(units, activation=\"relu\")\n",
        "        self.dense2 = tf.keras.layers.Dense(1)\n",
        "\n",
        "    def call(self, inputs):\n",
        "        x = self.dense1(inputs)\n",
        "        return self.dense2(x)\n",
        "```\n"
      ]
    },
    {
      "cell_type": "markdown",
      "id": "b163f01c",
      "metadata": {
        "id": "b163f01c"
      },
      "source": [
        "\n",
        "## 3. Custom Loss Function  \n",
        "\n",
        "Contoh Mean Squared Error:\n",
        "$\n",
        "MSE = \\frac{1}{m} \\sum_{i=1}^m (y^{(i)} - \\hat{y}^{(i)})^2\n",
        "$\n",
        "\n",
        "Custom loss:\n",
        "```python\n",
        "def my_mse(y_true, y_pred):\n",
        "    return tf.reduce_mean(tf.square(y_true - y_pred))\n",
        "```\n"
      ]
    },
    {
      "cell_type": "markdown",
      "id": "22362d3a",
      "metadata": {
        "id": "22362d3a"
      },
      "source": [
        "\n",
        "## 4. Custom Training Loop  \n",
        "\n",
        "Menggunakan `GradientTape` untuk menghitung dan apply gradien secara manual.\n",
        "\n",
        "```python\n",
        "optimizer = tf.keras.optimizers.SGD(learning_rate=0.01)\n",
        "\n",
        "for epoch in range(epochs):\n",
        "    with tf.GradientTape() as tape:\n",
        "        y_pred = model(X_batch)\n",
        "        loss = my_mse(y_batch, y_pred)\n",
        "    gradients = tape.gradient(loss, model.trainable_variables)\n",
        "    optimizer.apply_gradients(zip(gradients, model.trainable_variables))\n",
        "```\n"
      ]
    },
    {
      "cell_type": "markdown",
      "id": "63e65c35",
      "metadata": {
        "id": "63e65c35"
      },
      "source": [
        "\n",
        "## 5. Metrics  \n",
        "\n",
        "Kita juga bisa membuat metric custom untuk memantau training.\n",
        "\n",
        "```python\n",
        "train_loss = tf.keras.metrics.Mean()\n",
        "train_loss.update_state(loss)\n",
        "print(train_loss.result().numpy())\n",
        "```\n"
      ]
    },
    {
      "cell_type": "markdown",
      "id": "44fa31a2",
      "metadata": {
        "id": "44fa31a2"
      },
      "source": [
        "\n",
        "## 6. Save and Load Model  \n",
        "\n",
        "Model subclass harus disimpan dengan `model.save()` (format SavedModel) agar arsitektur dan bobotnya tersimpan.\n",
        "\n",
        "```python\n",
        "model.save(\"my_model\")\n",
        "loaded_model = tf.keras.models.load_model(\"my_model\")\n",
        "```\n"
      ]
    }
  ],
  "metadata": {
    "colab": {
      "provenance": [],
      "include_colab_link": true
    }
  },
  "nbformat": 4,
  "nbformat_minor": 5
}