{
  "cells": [
    {
      "cell_type": "markdown",
      "metadata": {
        "id": "view-in-github",
        "colab_type": "text"
      },
      "source": [
        "<a href=\"https://colab.research.google.com/github/fadhilahmad11/Hands-on-Machine-Learning-with-Scikit-Learn-TensorFlow-Tugas-Machine-LearningW8-W16/blob/main/Chapter_13_Loading_and_Preprocessing_Data_with_TensorFlow.ipynb\" target=\"_parent\"><img src=\"https://colab.research.google.com/assets/colab-badge.svg\" alt=\"Open In Colab\"/></a>"
      ]
    },
    {
      "cell_type": "markdown",
      "id": "25b0b237",
      "metadata": {
        "id": "25b0b237"
      },
      "source": [
        "\n",
        "# Chapter 13: Loading and Preprocessing Data with TensorFlow  \n",
        "\n",
        "---\n",
        "\n",
        "## 1. Pendahuluan  \n",
        "\n",
        "Chapter ini membahas bagaimana memanfaatkan **TensorFlow Dataset API** untuk memuat, memproses, dan mengelola data agar efisien digunakan dalam training deep learning.\n"
      ]
    },
    {
      "cell_type": "markdown",
      "id": "e0005246",
      "metadata": {
        "id": "e0005246"
      },
      "source": [
        "\n",
        "## 2. Dataset API  \n",
        "\n",
        "Dataset API memungkinkan:\n",
        "- Membaca data dari berbagai sumber (file CSV, gambar, TFRecord).\n",
        "- Transformasi data (shuffling, batching, mapping).\n",
        "- Efisiensi tinggi dengan prefetching dan parallel processing.\n"
      ]
    },
    {
      "cell_type": "markdown",
      "id": "14ee5a9a",
      "metadata": {
        "id": "14ee5a9a"
      },
      "source": [
        "\n",
        "## 3. Membuat Dataset  \n",
        "\n",
        "### Dari Numpy array:\n",
        "```python\n",
        "import tensorflow as tf\n",
        "\n",
        "dataset = tf.data.Dataset.from_tensor_slices((X_train, y_train))\n",
        "```\n",
        "\n",
        "### Dari file CSV:\n",
        "```python\n",
        "dataset = tf.data.experimental.make_csv_dataset(\"data.csv\", batch_size=32)\n",
        "```\n"
      ]
    },
    {
      "cell_type": "markdown",
      "id": "8814abb3",
      "metadata": {
        "id": "8814abb3"
      },
      "source": [
        "\n",
        "## 4. Transformasi Data  \n",
        "\n",
        "- **Batching**: kelompokkan data dalam batch.\n",
        "- **Shuffling**: acak data untuk mengurangi bias.\n",
        "- **Mapping**: terapkan fungsi ke setiap data.\n",
        "\n",
        "Contoh:\n",
        "```python\n",
        "dataset = dataset.shuffle(buffer_size=1000).batch(32).map(my_preprocess_fn).prefetch(1)\n",
        "```\n",
        "`prefetch(1)` artinya mempersiapkan batch berikutnya sambil model sedang belajar batch saat ini.\n"
      ]
    },
    {
      "cell_type": "markdown",
      "id": "dca096cb",
      "metadata": {
        "id": "dca096cb"
      },
      "source": [
        "\n",
        "## 5. TFRecord Format  \n",
        "\n",
        "Format binary yang efisien untuk data besar.\n",
        "- Kompresi lebih baik daripada CSV.\n",
        "- Bekerja optimal dengan Dataset API.\n",
        "\n",
        "Contoh membuat TFRecord:\n",
        "```python\n",
        "with tf.io.TFRecordWriter(\"data.tfrecord\") as writer:\n",
        "    writer.write(serialized_example)\n",
        "```\n"
      ]
    },
    {
      "cell_type": "markdown",
      "id": "77e44406",
      "metadata": {
        "id": "77e44406"
      },
      "source": [
        "\n",
        "## 6. Parsing TFRecord  \n",
        "\n",
        "Untuk membaca data:\n",
        "```python\n",
        "def parse_example(serialized_example):\n",
        "    features = {\n",
        "        \"feature1\": tf.io.FixedLenFeature([], tf.float32),\n",
        "        \"feature2\": tf.io.FixedLenFeature([], tf.int64)\n",
        "    }\n",
        "    return tf.io.parse_single_example(serialized_example, features)\n",
        "```\n"
      ]
    }
  ],
  "metadata": {
    "colab": {
      "provenance": [],
      "include_colab_link": true
    }
  },
  "nbformat": 4,
  "nbformat_minor": 5
}