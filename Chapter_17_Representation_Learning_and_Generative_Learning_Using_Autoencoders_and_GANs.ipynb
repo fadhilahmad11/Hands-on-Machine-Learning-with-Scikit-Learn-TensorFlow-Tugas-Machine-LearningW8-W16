{
  "cells": [
    {
      "cell_type": "markdown",
      "metadata": {
        "id": "view-in-github",
        "colab_type": "text"
      },
      "source": [
        "<a href=\"https://colab.research.google.com/github/fadhilahmad11/Hands-on-Machine-Learning-with-Scikit-Learn-TensorFlow-Tugas-Machine-LearningW8-W16/blob/main/Chapter_17_Representation_Learning_and_Generative_Learning_Using_Autoencoders_and_GANs.ipynb\" target=\"_parent\"><img src=\"https://colab.research.google.com/assets/colab-badge.svg\" alt=\"Open In Colab\"/></a>"
      ]
    },
    {
      "cell_type": "markdown",
      "source": [
        "# Chapter 17: Representation Learning and Generative Learning Using Autoencoders and GANs  \n",
        "\n",
        "## 1. Pendahuluan  \n",
        "\n",
        "Bab ini membahas:\n",
        "- **Representation learning**: belajar fitur berguna dari data secara otomatis.\n",
        "- **Generative learning**: menghasilkan data baru mirip distribusi asli.\n",
        "\n",
        "## 2. Autoencoder  \n",
        "\n",
        "Autoencoder belajar merepresentasikan data dengan encoding berdimensi lebih rendah.  \n",
        "\n",
        "Struktur:\n",
        "- Encoder: memetakan input ke latent space.\n",
        "- Decoder: merekonstruksi input dari latent space.\n",
        "\n",
        "Loss function:\n",
        "$\n",
        "\\mathcal{L} = \\frac{1}{m} \\sum \\| x - \\hat{x} \\|^2\n",
        "$\n",
        "\n",
        "di mana:\n",
        "- $( x $): input asli\n",
        "- $( \\hat{x} $): rekonstruksi\n",
        "\n",
        "#### 2.1 Contoh Autoencoder Keras  \n",
        "\n",
        "```python\n",
        "from tensorflow import keras\n",
        "\n",
        "encoder = keras.models.Sequential([\n",
        "    keras.layers.Flatten(input_shape=[28, 28]),\n",
        "    keras.layers.Dense(64, activation=\"relu\")\n",
        "])\n",
        "\n",
        "decoder = keras.models.Sequential([\n",
        "    keras.layers.Dense(28 * 28, activation=\"sigmoid\"),\n",
        "    keras.layers.Reshape([28, 28])\n",
        "])\n",
        "\n",
        "autoencoder = keras.models.Sequential([encoder, decoder])\n",
        "autoencoder.compile(loss=\"binary_crossentropy\", optimizer=\"adam\")\n",
        "```\n",
        "\n",
        "## 3. Variational Autoencoder (VAE)  \n",
        "\n",
        "VAE belajar distribusi probabilistik latent space, bukan titik tunggal.  \n",
        "\n",
        "Loss:\n",
        "$\n",
        "\\mathcal{L} = \\mathbb{E}[\\text{reconstruction loss}] + D_{KL}(q(z|x) || p(z))\n",
        "$\n",
        "\n",
        "- $( D_{KL} $): Kullback-Leibler divergence, regularisasi latent space.\n",
        "\n",
        "## 4. Generative Adversarial Networks (GAN)  \n",
        "\n",
        "GAN terdiri dari:\n",
        "- **Generator**: menghasilkan data mirip data asli.\n",
        "- **Discriminator**: membedakan data asli dan palsu.\n",
        "\n",
        "Training: generator mencoba menipu discriminator.\n",
        "\n",
        "Loss GAN sederhana:\n",
        "$\n",
        "\\min_G \\max_D \\mathbb{E}_{x \\sim p_{\\text{data}}} [\\log D(x)] + \\mathbb{E}_{z \\sim p_z} [\\log(1 - D(G(z)))]\n",
        "$\n"
      ],
      "metadata": {
        "id": "B4a-LuffQa-P"
      },
      "id": "B4a-LuffQa-P"
    }
  ],
  "metadata": {
    "colab": {
      "provenance": [],
      "include_colab_link": true
    }
  },
  "nbformat": 4,
  "nbformat_minor": 5
}