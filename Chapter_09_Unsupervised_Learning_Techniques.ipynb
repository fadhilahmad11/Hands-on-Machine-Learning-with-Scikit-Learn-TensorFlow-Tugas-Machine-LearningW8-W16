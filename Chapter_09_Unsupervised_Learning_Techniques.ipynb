{
  "cells": [
    {
      "cell_type": "markdown",
      "metadata": {
        "id": "view-in-github",
        "colab_type": "text"
      },
      "source": [
        "<a href=\"https://colab.research.google.com/github/fadhilahmad11/Hands-on-Machine-Learning-with-Scikit-Learn-TensorFlow-Tugas-Machine-LearningW8-W16/blob/main/Chapter_09_Unsupervised_Learning_Techniques.ipynb\" target=\"_parent\"><img src=\"https://colab.research.google.com/assets/colab-badge.svg\" alt=\"Open In Colab\"/></a>"
      ]
    },
    {
      "cell_type": "markdown",
      "id": "556e9b9b",
      "metadata": {
        "id": "556e9b9b"
      },
      "source": [
        "\n",
        "# Chapter 9: Unsupervised Learning Techniques\n",
        "\n",
        "\n",
        "---\n",
        "\n",
        "## 1. Pendahuluan  \n",
        "\n",
        "Clustering adalah teknik unsupervised learning untuk mengelompokkan data berdasarkan kemiripan.  \n",
        "Tujuan: menemukan struktur tersembunyi atau pola dalam data tanpa label.\n"
      ]
    },
    {
      "cell_type": "markdown",
      "id": "57371ada",
      "metadata": {
        "id": "57371ada"
      },
      "source": [
        "\n",
        "## 2. K-Means  \n",
        "\n",
        "K-Means mencoba mempartisi data ke dalam \\( K \\) cluster sehingga jarak antar anggota cluster dengan centroidnya minimum.  \n",
        "\n",
        "### Rumus objective:\n",
        "$\n",
        "J = \\sum_{i=1}^{m} \\sum_{k=1}^{K} r_{ik} \\| x^{(i)} - \\mu_k \\|^2\n",
        "$\n",
        "\n",
        "di mana:\n",
        "- $( r_{ik} = 1 $) jika data ke-i dalam cluster k, 0 jika tidak.\n",
        "- $( \\mu_k $) = centroid cluster k.\n",
        "\n",
        "**Makna:**  \n",
        "Minimalkan total jarak kuadrat antara data point dan centroid clusternya.\n",
        "\n",
        "### Contoh kode:\n",
        "```python\n",
        "from sklearn.cluster import KMeans\n",
        "\n",
        "kmeans = KMeans(n_clusters=3)\n",
        "y_pred = kmeans.fit_predict(X)\n",
        "```\n"
      ]
    },
    {
      "cell_type": "markdown",
      "id": "c8107e70",
      "metadata": {
        "id": "c8107e70"
      },
      "source": [
        "\n",
        "## 3. K-Means++  \n",
        "\n",
        "Algoritma untuk memilih centroid awal dengan lebih cerdas, mengurangi risiko solusi buruk akibat inisialisasi sembarangan.\n"
      ]
    },
    {
      "cell_type": "markdown",
      "id": "30c9f66f",
      "metadata": {
        "id": "30c9f66f"
      },
      "source": [
        "\n",
        "## 4. DBSCAN  \n",
        "\n",
        "Density-Based Spatial Clustering of Applications with Noise  \n",
        "Mencari cluster berdensitas tinggi dan mengabaikan outlier.\n",
        "\n",
        "```python\n",
        "from sklearn.cluster import DBSCAN\n",
        "\n",
        "dbscan = DBSCAN(eps=0.5, min_samples=5)\n",
        "y_dbscan = dbscan.fit_predict(X)\n",
        "```\n"
      ]
    },
    {
      "cell_type": "markdown",
      "id": "a41e3037",
      "metadata": {
        "id": "a41e3037"
      },
      "source": [
        "\n",
        "## 5. Silhouette Score  \n",
        "\n",
        "Mengukur kualitas cluster:\n",
        "$\n",
        "s(i) = \\frac{b(i) - a(i)}{\\max(a(i), b(i))}\n",
        "$\n",
        "\n",
        "- $( a(i) $): rata-rata jarak dari i ke anggota cluster-nya sendiri.\n",
        "- $( b(i) $): jarak rata-rata ke cluster terdekat lainnya.\n",
        "\n",
        "**Makna:**  \n",
        "- Nilai mendekati 1 = data point cocok dengan cluster-nya.\n",
        "- Nilai mendekati 0 = data point di antara dua cluster.\n",
        "- Nilai negatif = kemungkinan point ditempatkan di cluster yang salah.\n"
      ]
    },
    {
      "cell_type": "markdown",
      "id": "9a0ce68a",
      "metadata": {
        "id": "9a0ce68a"
      },
      "source": [
        "\n",
        "## 6. Other Algorithms  \n",
        "\n",
        "- **Hierarchical Clustering:** membangun tree of clusters.\n",
        "- **Gaussian Mixture Models:** pendekatan probabilistik, bukan hard assignment.\n"
      ]
    }
  ],
  "metadata": {
    "colab": {
      "provenance": [],
      "include_colab_link": true
    }
  },
  "nbformat": 4,
  "nbformat_minor": 5
}