{
  "cells": [
    {
      "cell_type": "markdown",
      "metadata": {
        "id": "view-in-github",
        "colab_type": "text"
      },
      "source": [
        "<a href=\"https://colab.research.google.com/github/fadhilahmad11/Hands-on-Machine-Learning-with-Scikit-Learn-TensorFlow-Tugas-Machine-LearningW8-W16/blob/main/Chapter_05_Support_Vector_Machines.ipynb\" target=\"_parent\"><img src=\"https://colab.research.google.com/assets/colab-badge.svg\" alt=\"Open In Colab\"/></a>"
      ]
    },
    {
      "cell_type": "markdown",
      "id": "2c8bc4aa",
      "metadata": {
        "id": "2c8bc4aa"
      },
      "source": [
        "\n",
        "# Chapter 5: Support Vector Machines  \n",
        "---\n",
        "\n",
        "## 1. Pendahuluan  \n",
        "\n",
        "SVM adalah model Machine Learning yang kuat dan serbaguna, mampu melakukan klasifikasi linear, non-linear, regresi, bahkan deteksi outlier. SVM sangat cocok untuk dataset kecil hingga menengah dengan data yang kompleks.\n"
      ]
    },
    {
      "cell_type": "markdown",
      "id": "2faffbf9",
      "metadata": {
        "id": "2faffbf9"
      },
      "source": [
        "\n",
        "## 2. Linear SVM Classification  \n",
        "\n",
        "SVM mencoba mencari \"jalan\" atau margin terlebar yang memisahkan dua kelas.  \n",
        "\n",
        "$\n",
        "\\hat{y} =\n",
        "\\begin{cases}\n",
        "1 & \\text{jika } w^T x + b \\ge 0 \\\\\n",
        "0 & \\text{jika } w^T x + b < 0\n",
        "\\end{cases}\n",
        "$\n",
        "\n",
        "### Contoh kode: Linear SVM untuk Iris virginica  \n",
        "\n",
        "```python\n",
        "import numpy as np\n",
        "from sklearn import datasets\n",
        "from sklearn.pipeline import Pipeline\n",
        "from sklearn.preprocessing import StandardScaler\n",
        "from sklearn.svm import LinearSVC\n",
        "\n",
        "iris = datasets.load_iris()\n",
        "X = iris[\"data\"][:, (2, 3)]\n",
        "y = (iris[\"target\"] == 2).astype(np.float64)\n",
        "\n",
        "svm_clf = Pipeline([\n",
        "    (\"scaler\", StandardScaler()),\n",
        "    (\"linear_svc\", LinearSVC(C=1, loss=\"hinge\")),\n",
        "])\n",
        "\n",
        "svm_clf.fit(X, y)\n",
        "```\n"
      ]
    },
    {
      "cell_type": "markdown",
      "id": "5443ab48",
      "metadata": {
        "id": "5443ab48"
      },
      "source": [
        "\n",
        "## 3. Soft Margin Classification  \n",
        "\n",
        "Jika data tidak sepenuhnya terpisah secara linear atau mengandung outlier, digunakan **soft margin classification** dengan hyperparameter `C` untuk mengatur trade-off antara margin lebar dan margin violation.\n"
      ]
    },
    {
      "cell_type": "markdown",
      "id": "aac0ac24",
      "metadata": {
        "id": "aac0ac24"
      },
      "source": [
        "\n",
        "## 4. Nonlinear SVM Classification  \n",
        "\n",
        "### a. Polynomial Kernel  \n",
        "\n",
        "```python\n",
        "from sklearn.svm import SVC\n",
        "from sklearn.pipeline import Pipeline\n",
        "from sklearn.preprocessing import StandardScaler\n",
        "\n",
        "poly_kernel_svm_clf = Pipeline([\n",
        "    (\"scaler\", StandardScaler()),\n",
        "    (\"svm_clf\", SVC(kernel=\"poly\", degree=3, coef0=1, C=5))\n",
        "])\n",
        "\n",
        "poly_kernel_svm_clf.fit(X, y)\n",
        "```\n",
        "### b. Gaussian RBF Kernel  \n",
        "\n",
        "RBF Kernel:  \n",
        "\n",
        "$\n",
        "K(a, b) = \\exp\\left( - \\gamma \\| a - b \\|^2 \\right)\n",
        "$\n"
      ]
    },
    {
      "cell_type": "markdown",
      "id": "69c17259",
      "metadata": {
        "id": "69c17259"
      },
      "source": [
        "\n",
        "## 5. SVM Regression  \n",
        "\n",
        "Alih-alih memisahkan kelas, SVM regression mencoba membuat sebagian besar data ada dalam margin.\n",
        "\n",
        "```python\n",
        "from sklearn.svm import LinearSVR\n",
        "\n",
        "svm_reg = LinearSVR(epsilon=1.5)\n",
        "svm_reg.fit(X, y)\n",
        "```\n",
        "\n",
        "Untuk non-linear:\n",
        "\n",
        "```python\n",
        "from sklearn.svm import SVR\n",
        "\n",
        "svm_poly_reg = SVR(kernel=\"poly\", degree=2, C=100, epsilon=0.1)\n",
        "svm_poly_reg.fit(X, y)\n",
        "```\n"
      ]
    },
    {
      "cell_type": "markdown",
      "id": "773005a9",
      "metadata": {
        "id": "773005a9"
      },
      "source": [
        "\n",
        "## 6. Konsep Inti Matematis  \n",
        "\n",
        "### Hard Margin Objective  \n",
        "\n",
        "$\n",
        "\\min_{w,b} \\frac{1}{2} \\|w\\|^2\n",
        "$\n",
        "$\n",
        "\\text{dengan syarat } t^{(i)}(w^T x^{(i)} + b) \\ge 1\n",
        "$\n",
        "\n",
        "### Soft Margin Objective  \n",
        "\n",
        "$\n",
        "\\min_{w,b,\\zeta} \\frac{1}{2} \\|w\\|^2 + C \\sum \\zeta_i\n",
        "$\n",
        "$\n",
        "\\text{dengan syarat } t^{(i)}(w^T x^{(i)} + b) \\ge 1 - \\zeta_i, \\zeta_i \\ge 0\n",
        "$\n"
      ]
    }
  ],
  "metadata": {
    "colab": {
      "provenance": [],
      "include_colab_link": true
    }
  },
  "nbformat": 4,
  "nbformat_minor": 5
}