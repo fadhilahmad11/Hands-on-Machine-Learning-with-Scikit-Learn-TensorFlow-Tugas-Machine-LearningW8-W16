{
  "cells": [
    {
      "cell_type": "markdown",
      "metadata": {
        "id": "view-in-github",
        "colab_type": "text"
      },
      "source": [
        "<a href=\"https://colab.research.google.com/github/fadhilahmad11/Hands-on-Machine-Learning-with-Scikit-Learn-TensorFlow-Tugas-Machine-LearningW8-W16/blob/main/Chapter_07_Ensemble_Report_and_Random_Forests.ipynb\" target=\"_parent\"><img src=\"https://colab.research.google.com/assets/colab-badge.svg\" alt=\"Open In Colab\"/></a>"
      ]
    },
    {
      "cell_type": "markdown",
      "id": "e64e4428",
      "metadata": {
        "id": "e64e4428"
      },
      "source": [
        "# Chapter 7: Ensemble Learning and Random Forests"
      ]
    },
    {
      "cell_type": "markdown",
      "id": "61c709e8",
      "metadata": {
        "id": "61c709e8"
      },
      "source": [
        "## 1. Pendahuluan\n",
        "Ensemble Learning adalah metode dalam machine learning di mana beberapa model (disebut estimator) digabungkan untuk membentuk model yang lebih kuat dan lebih akurat. Gagasan utama di balik ensemble learning adalah bahwa gabungan dari beberapa prediksi model yang berbeda dapat menghasilkan hasil yang lebih baik daripada hanya mengandalkan satu model."
      ]
    },
    {
      "cell_type": "markdown",
      "id": "e3b9af80",
      "metadata": {
        "id": "e3b9af80"
      },
      "source": [
        "Jenis utama dari metode ensemble adalah:\n",
        "- Voting\n",
        "- Bagging\n",
        "- Pasting\n",
        "- Random Forests\n",
        "- Boosting\n",
        "- Stacking"
      ]
    },
    {
      "cell_type": "markdown",
      "id": "e332520b",
      "metadata": {
        "id": "e332520b"
      },
      "source": [
        "## 2. Voting Classifiers\n",
        "Voting Classifier adalah metode ensemble untuk klasifikasi yang menggabungkan prediksi dari beberapa model berbeda dan memutuskan kelas akhir berdasarkan suara mayoritas (untuk klasifikasi) atau rata-rata (untuk regresi)."
      ]
    },
    {
      "cell_type": "markdown",
      "id": "a9ece802",
      "metadata": {
        "id": "a9ece802"
      },
      "source": [
        "### Jenis Voting:\n",
        "- **Hard Voting**: Setiap model memberikan prediksi dan kelas yang dipilih adalah yang paling sering dipilih (mode).\n",
        "- **Soft Voting**: Setiap model memberikan probabilitas dan prediksi akhir berdasarkan probabilitas rata-rata tertinggi."
      ]
    },
    {
      "cell_type": "markdown",
      "id": "1c96add9",
      "metadata": {
        "id": "1c96add9"
      },
      "source": [
        "```python\n",
        "from sklearn.ensemble import VotingClassifier\n",
        "from sklearn.linear_model import LogisticRegression\n",
        "from sklearn.svm import SVC\n",
        "from sklearn.tree import DecisionTreeClassifier\n",
        "\n",
        "log_clf = LogisticRegression()\n",
        "svc_clf = SVC(probability=True)\n",
        "tree_clf = DecisionTreeClassifier()\n",
        "\n",
        "voting_clf = VotingClassifier(\n",
        "    estimators=[('lr', log_clf), ('svc', svc_clf), ('tree', tree_clf)],\n",
        "    voting='soft'\n",
        ")\n",
        "```"
      ]
    },
    {
      "cell_type": "markdown",
      "id": "2044a048",
      "metadata": {
        "id": "2044a048"
      },
      "source": [
        "### Kelebihan:\n",
        "- Menggabungkan kekuatan berbagai model\n",
        "- Umumnya lebih stabil dan akurat"
      ]
    },
    {
      "cell_type": "markdown",
      "id": "3c693252",
      "metadata": {
        "id": "3c693252"
      },
      "source": [
        "## 3. Bagging dan Pasting\n",
        "Bagging (Bootstrap Aggregating) dan Pasting adalah teknik ensemble di mana beberapa model dilatih secara paralel menggunakan subset data pelatihan."
      ]
    },
    {
      "cell_type": "markdown",
      "id": "7a9595f5",
      "metadata": {
        "id": "7a9595f5"
      },
      "source": [
        "- **Bagging**: Menggunakan sampling dengan pengembalian (bootstrapping)\n",
        "- **Pasting**: Menggunakan sampling tanpa pengembalian"
      ]
    },
    {
      "cell_type": "markdown",
      "id": "ef510ba1",
      "metadata": {
        "id": "ef510ba1"
      },
      "source": [
        "Model yang digunakan biasanya sama, tetapi data latihannya berbeda."
      ]
    },
    {
      "cell_type": "markdown",
      "id": "749dc5d7",
      "metadata": {
        "id": "749dc5d7"
      },
      "source": [
        "```python\n",
        "from sklearn.ensemble import BaggingClassifier\n",
        "from sklearn.tree import DecisionTreeClassifier\n",
        "\n",
        "bag_clf = BaggingClassifier(\n",
        "    DecisionTreeClassifier(), n_estimators=500,\n",
        "    max_samples=100, bootstrap=True, n_jobs=-1\n",
        ")\n",
        "bag_clf.fit(X_train, y_train)\n",
        "```"
      ]
    },
    {
      "cell_type": "markdown",
      "id": "d466eadd",
      "metadata": {
        "id": "d466eadd"
      },
      "source": [
        "## 4. Out-of-Bag Evaluation\n",
        "Out-of-Bag (oob) Evaluation digunakan dalam bagging. Karena beberapa data tidak digunakan saat training (out-of-bag), data tersebut bisa dipakai untuk mengevaluasi model.\n",
        "\n",
        "```python\n",
        "bag_clf = BaggingClassifier(\n",
        "    DecisionTreeClassifier(), n_estimators=500,\n",
        "    bootstrap=True, oob_score=True\n",
        ")\n",
        "bag_clf.fit(X_train, y_train)\n",
        "print(bag_clf.oob_score_)\n",
        "```"
      ]
    },
    {
      "cell_type": "markdown",
      "id": "167c3f12",
      "metadata": {
        "id": "167c3f12"
      },
      "source": [
        "## 5. Random Patches dan Random Subspaces\n",
        "- **Random Subspaces**: Hanya memilih subset fitur untuk tiap model.\n",
        "- **Random Patches**: Memilih subset dari fitur dan data untuk tiap model."
      ]
    },
    {
      "cell_type": "markdown",
      "id": "ae4e6365",
      "metadata": {
        "id": "ae4e6365"
      },
      "source": [
        "Metode ini membantu mengurangi korelasi antar model dan memperkuat generalisasi."
      ]
    },
    {
      "cell_type": "markdown",
      "id": "54db4213",
      "metadata": {
        "id": "54db4213"
      },
      "source": [
        "## 6. Random Forests\n",
        "Random Forest adalah teknik bagging khusus dengan Decision Tree sebagai estimator dan pengambilan fitur secara acak di setiap split.\n",
        "\n",
        "```python\n",
        "from sklearn.ensemble import RandomForestClassifier\n",
        "rnd_clf = RandomForestClassifier(n_estimators=500, max_leaf_nodes=16, n_jobs=-1)\n",
        "rnd_clf.fit(X_train, y_train)\n",
        "```"
      ]
    },
    {
      "cell_type": "markdown",
      "id": "729e68d1",
      "metadata": {
        "id": "729e68d1"
      },
      "source": [
        "### Feature Importance\n",
        "Random Forest dapat digunakan untuk melihat seberapa penting setiap fitur dalam membuat keputusan.\n",
        "\n",
        "\n",
        "```python\n",
        "for name, score in zip(iris['feature_names'], rnd_clf.feature_importances_):\n",
        "    print(name, score)\n",
        "```\n",
        "\n"
      ]
    },
    {
      "cell_type": "markdown",
      "id": "cc2d5f93",
      "metadata": {
        "id": "cc2d5f93"
      },
      "source": [
        "## 7. Extra-Trees (Extremely Randomized Trees)\n",
        "Berbeda dengan Random Forest, Extra-Trees menggunakan split yang benar-benar acak. Hal ini meningkatkan kecepatan tetapi bisa mengurangi akurasi.\n",
        "\n",
        "```python\n",
        "from sklearn.ensemble import ExtraTreesClassifier\n",
        "ext_clf = ExtraTreesClassifier(n_estimators=500, n_jobs=-1)\n",
        "ext_clf.fit(X_train, y_train)\n",
        "```"
      ]
    },
    {
      "cell_type": "markdown",
      "id": "e577fa7c",
      "metadata": {
        "id": "e577fa7c"
      },
      "source": [
        "## 8. Boosting\n",
        "Boosting adalah metode ensemble yang melatih model secara berurutan, di mana setiap model berusaha mengoreksi kesalahan model sebelumnya."
      ]
    },
    {
      "cell_type": "markdown",
      "id": "5398a8b6",
      "metadata": {
        "id": "5398a8b6"
      },
      "source": [
        "### AdaBoost\n",
        "Menambahkan bobot lebih besar pada sampel yang salah klasifikasi.\n",
        "\n",
        "\n",
        "```python\n",
        "from sklearn.ensemble import AdaBoostClassifier\n",
        "ada_clf = AdaBoostClassifier(\n",
        "    DecisionTreeClassifier(max_depth=1), n_estimators=200,\n",
        "    algorithm=\"SAMME.R\", learning_rate=0.5\n",
        ")\n",
        "ada_clf.fit(X_train, y_train)\n",
        "```\n",
        "\n"
      ]
    },
    {
      "cell_type": "markdown",
      "id": "924e134d",
      "metadata": {
        "id": "924e134d"
      },
      "source": [
        "### Gradient Boosting\n",
        "Model baru dilatih berdasarkan residual dari model sebelumnya.\n",
        "\n",
        "```python\n",
        "from sklearn.ensemble import GradientBoostingRegressor\n",
        "gbrt = GradientBoostingRegressor(max_depth=2, n_estimators=3, learning_rate=1.0)\n",
        "gbrt.fit(X, y)\n",
        "```\n"
      ]
    },
    {
      "cell_type": "markdown",
      "id": "f2c77e61",
      "metadata": {
        "id": "f2c77e61"
      },
      "source": [
        "## 9. Stacking\n",
        "Stacking (Stacked Generalization) menggabungkan prediksi dari beberapa model dasar (base learners) dengan model meta."
      ]
    },
    {
      "cell_type": "markdown",
      "id": "40224439",
      "metadata": {
        "id": "40224439"
      },
      "source": [
        "```python\n",
        "from sklearn.ensemble import StackingClassifier\n",
        "from sklearn.linear_model import LogisticRegression\n",
        "\n",
        "stack_clf = StackingClassifier(\n",
        "    estimators=[('rf', RandomForestClassifier(n_estimators=10)),\n",
        "                ('ada', AdaBoostClassifier(n_estimators=10))],\n",
        "    final_estimator=LogisticRegression()\n",
        ")\n",
        "stack_clf.fit(X_train, y_train)\n",
        "```"
      ]
    }
  ],
  "metadata": {
    "colab": {
      "provenance": [],
      "include_colab_link": true
    }
  },
  "nbformat": 4,
  "nbformat_minor": 5
}